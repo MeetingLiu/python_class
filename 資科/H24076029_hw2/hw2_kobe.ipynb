{
 "cells": [
  {
   "cell_type": "code",
   "execution_count": 158,
   "metadata": {
    "scrolled": true
   },
   "outputs": [],
   "source": [
    "import pandas as pd\n",
    "import numpy as np\n",
    "df=pd.read_csv('C:\\kobe.csv')"
   ]
  },
  {
   "cell_type": "markdown",
   "metadata": {},
   "source": [
    "* (1)"
   ]
  },
  {
   "cell_type": "code",
   "execution_count": 159,
   "metadata": {
    "scrolled": false
   },
   "outputs": [
    {
     "name": "stdout",
     "output_type": "stream",
     "text": [
      "(1) ANS:\n",
      "2PT Field Goal: 0.388\n",
      "3PT Field Goal: 0.266\n"
     ]
    },
    {
     "name": "stderr",
     "output_type": "stream",
     "text": [
      "C:\\Users\\vivi\\Anaconda3\\lib\\site-packages\\ipykernel_launcher.py:1: UserWarning: Boolean Series key will be reindexed to match DataFrame index.\n",
      "  \"\"\"Entry point for launching an IPython kernel.\n",
      "C:\\Users\\vivi\\Anaconda3\\lib\\site-packages\\ipykernel_launcher.py:2: UserWarning: Boolean Series key will be reindexed to match DataFrame index.\n",
      "  \n"
     ]
    }
   ],
   "source": [
    "_2pt=df[df['opponent']=='HOU'][df['shot_type']=='2PT Field Goal'][['opponent', 'shot_made_flag']]\n",
    "_3pt=df[df['opponent']=='HOU'][df['shot_type']=='3PT Field Goal'][['opponent', 'shot_made_flag']]\n",
    "m2=_2pt.mean() # 算命中率\n",
    "m3=_3pt.mean()\n",
    "print('(1) ANS:')\n",
    "print('2PT Field Goal: '+ '%5.3f' % (m2[0]))\n",
    "print('3PT Field Goal: '+ '%5.3f' % (m3[0]))"
   ]
  },
  {
   "cell_type": "markdown",
   "metadata": {},
   "source": [
    "* (2)"
   ]
  },
  {
   "cell_type": "code",
   "execution_count": 160,
   "metadata": {
    "scrolled": true
   },
   "outputs": [
    {
     "name": "stdout",
     "output_type": "stream",
     "text": [
      "(2) ANS:\n",
      "1 BKN 0.691\n",
      "2 IND 0.719\n",
      "3 BOS 0.742\n",
      "4 OKC 0.742\n",
      "5 CHA 0.758\n"
     ]
    }
   ],
   "source": [
    "a=df['opponent']\n",
    "a=a.values\n",
    "a=np.unique(a)\n",
    "# 依照shot_type，df增一行column叫score\n",
    "df.loc[df.shot_type=='2PT Field Goal', 'score']=2*df['shot_made_flag']\n",
    "df.loc[df.shot_type=='3PT Field Goal', 'score']=3*df['shot_made_flag']\n",
    "new=pd.DataFrame(columns=['opponent', 'score'])\n",
    "for i in range(len(a)):\n",
    "    k=df[df['opponent']==a[i]]['score']\n",
    "    k1=k.mean() #算得分率\n",
    "    new.loc[i]=[a[i], '%5.3f' % (k1)]\n",
    "new=new.sort_values(by='score') # 依score做排序\n",
    "# new[:5]\n",
    "print('(2) ANS:')\n",
    "for i in range(5):\n",
    "    print(i+1, new.iloc[i,[0]][0], new.iloc[i,[1]][0])\n",
    "# new.iloc[0,[1]]"
   ]
  },
  {
   "cell_type": "markdown",
   "metadata": {},
   "source": [
    "* (3)"
   ]
  },
  {
   "cell_type": "code",
   "execution_count": 161,
   "metadata": {},
   "outputs": [],
   "source": [
    "# score=pd.DataFrame(columns=['game_id','result','opponent'])\n",
    "# a=df[df['playoffs']==1][df['period']<=4][df['seconds_remaining']<180]\n",
    "# a.loc[a.shot_type=='2PT Field Goal', 'score']=2*a['shot_made_flag']\n",
    "# a.loc[a.shot_type=='3PT Field Goal', 'score']=3*a['shot_made_flag']"
   ]
  },
  {
   "cell_type": "code",
   "execution_count": 162,
   "metadata": {
    "scrolled": true
   },
   "outputs": [
    {
     "name": "stderr",
     "output_type": "stream",
     "text": [
      "C:\\Users\\vivi\\Anaconda3\\lib\\site-packages\\ipykernel_launcher.py:2: UserWarning: Boolean Series key will be reindexed to match DataFrame index.\n",
      "  \n"
     ]
    },
    {
     "name": "stdout",
     "output_type": "stream",
     "text": [
      "(3) ANS:\n",
      "id = 40700142 , vs. DEN : 36\n",
      "id = 40900314 , vs. PHX : 34\n",
      "id = 41100235 , vs. OKC : 33\n",
      "id = 40000069 , vs. SAS : 33\n",
      "id = 40700315 , vs. SAS : 31\n"
     ]
    }
   ],
   "source": [
    "score=pd.DataFrame(columns=['game_id','result','opponent'])\n",
    "a=df[df['playoffs']==1][df['period']<=4][df['seconds_remaining']<180] # 不含延長賽的最後3分鐘\n",
    "a.loc[a.shot_type=='2PT Field Goal', 'score']=2*a['shot_made_flag']\n",
    "a.loc[a.shot_type=='3PT Field Goal', 'score']=3*a['shot_made_flag']\n",
    "\n",
    "id=a['game_id']\n",
    "id=id.values\n",
    "id=np.unique(id) # 不重複的game id\n",
    "\n",
    "for i in range(len(id)):\n",
    "    s=a[a['game_id']==id[i]]['score']\n",
    "    summ=s.sum() # 算每場比賽的總得分\n",
    "    idx=a.index[a['game_id']==id[i]]\n",
    "    oppo=a.at[idx[0],'opponent']\n",
    "    score.loc[i]=[id[i],summ,oppo]\n",
    "score=score.sort_values(ascending=False,by='result') # 依照總得分由小到大排列\n",
    "score\n",
    "print('(3) ANS:')\n",
    "for i in range(5):\n",
    "    print('id = %d , vs. %s : %d' % (score.iloc[i,[0]][0], score.iloc[i,[2]][0], score.iloc[i,[1]][0]))"
   ]
  },
  {
   "cell_type": "markdown",
   "metadata": {},
   "source": [
    "* (4)"
   ]
  },
  {
   "cell_type": "code",
   "execution_count": 163,
   "metadata": {},
   "outputs": [
    {
     "name": "stderr",
     "output_type": "stream",
     "text": [
      "C:\\Users\\vivi\\Anaconda3\\lib\\site-packages\\ipykernel_launcher.py:7: UserWarning: Boolean Series key will be reindexed to match DataFrame index.\n",
      "  import sys\n"
     ]
    },
    {
     "name": "stdout",
     "output_type": "stream",
     "text": [
      "(4) ANS:\n",
      "1996-97 : 0.235\n",
      "1997-98 : 0.250\n",
      "1998-99 : 0.337\n",
      "1999-00 : 0.303\n",
      "Apr-03 : 0.237\n",
      "Aug-07 : 0.272\n",
      "Dec-11 : 0.252\n",
      "Feb-01 : 0.286\n",
      "Jan-00 : 0.272\n",
      "Jul-06 : 0.289\n",
      "Jun-05 : 0.323\n",
      "Mar-02 : 0.244\n",
      "Nov-10 : 0.258\n",
      "Oct-09 : 0.288\n",
      "Sep-08 : 0.303\n"
     ]
    }
   ],
   "source": [
    "season=df[df['playoffs']==1]['season'] # 季後賽\n",
    "season=season.values\n",
    "season=np.unique(season)\n",
    "result=pd.DataFrame(columns=['season','rate'])\n",
    "for i in range(len(season)):\n",
    "    # 不含延長賽，最後1分鐘的命中率\n",
    "    a=df[df['action_type']=='Jump Shot'][df['period']<=4][df['seconds_remaining']<60][df['season']==season[i]][df['playoffs']==1]\n",
    "    m=a['shot_made_flag'].mean()\n",
    "    result.loc[i]=[season[i],m]\n",
    "\n",
    "print('(4) ANS:')\n",
    "# result\n",
    "# result.iloc[0,[0]][0]\n",
    "for i in range(len(season)):\n",
    "    print('%s : %5.3f' % (result.iloc[i,[0]][0], result.iloc[i,[1]][0]))"
   ]
  },
  {
   "cell_type": "markdown",
   "metadata": {},
   "source": [
    "* (5)"
   ]
  },
  {
   "cell_type": "code",
   "execution_count": 164,
   "metadata": {
    "scrolled": true
   },
   "outputs": [],
   "source": [
    "date=df['game_date']\n",
    "date=date.values\n",
    "date=np.unique(date)\n",
    "date\n",
    "result=pd.DataFrame(columns=['date','rate'])\n",
    "\n",
    "for i in range(len(date)):\n",
    "    k=df[df['game_date']==date[i]]['shot_made_flag']\n",
    "    _k=k.mean() # 每場比賽的命中率\n",
    "    a=date[i].split('/') # 調整日期格式\n",
    "    if len(a[1])<2:\n",
    "        a[1]='0'+str(a[1])\n",
    "    if len(a[2])<2:\n",
    "        a[2]='0'+str(a[2])\n",
    "    a=a[0]+'/'+a[1]+'/'+a[2]\n",
    "    result.loc[i]=[a,_k]\n",
    "result=result.sort_values(by='date') # 依照日期先後排列\n",
    "result.index=range(len(result)) # 重新幫DataFrame編號\n",
    "result\n",
    "for i in range(len(result)):\n",
    "    if result.at[i,'rate']<0.33:\n",
    "        result=result.drop([i])\n"
   ]
  },
  {
   "cell_type": "code",
   "execution_count": 165,
   "metadata": {
    "scrolled": false
   },
   "outputs": [],
   "source": [
    "cont=pd.DataFrame(columns=['time','start','end'])\n",
    "k=result.index\n",
    "k[-1]\n",
    "t=0\n",
    "s=[1,result.loc[k[0],['date']]]\n",
    "s.append(result.loc[k[0],['date']])\n",
    "\n",
    "for i in range(1,len(k)): # 判斷是否連續\n",
    "    if k[i]!=k[i-1]+1:\n",
    "        s.append(result.loc[k[i-1],['date']])\n",
    "        cont.loc[t]=[s[0],s[1],s[2]]\n",
    "        t+=1\n",
    "        s=[1,result.loc[k[i],['date']]]\n",
    "    elif k[i]==k[i-1]+1:\n",
    "        s[0]+=1\n",
    "cont=cont.sort_values(by='time',ascending=False)    "
   ]
  },
  {
   "cell_type": "code",
   "execution_count": 166,
   "metadata": {
    "scrolled": true
   },
   "outputs": [
    {
     "name": "stdout",
     "output_type": "stream",
     "text": [
      "(5) ANS:\n",
      "19 2000/02/01 ~ 2000/03/12\n",
      "19 2001/06/15 ~ 2001/12/07\n",
      "16 2002/01/14 ~ 2002/02/17\n",
      "14 2004/01/02 ~ 2004/02/25\n",
      "13 2012/05/21 ~ 2012/11/21\n"
     ]
    }
   ],
   "source": [
    "cont.index=range(len(cont))\n",
    "print('(5) ANS:')\n",
    "for i in range(5):\n",
    "    print('%d %s ~ %s' % (cont.at[i,'time'], cont.at[i,'start'][0], cont.at[i,'end'][0]))"
   ]
  },
  {
   "cell_type": "markdown",
   "metadata": {},
   "source": [
    "* (6)"
   ]
  },
  {
   "cell_type": "code",
   "execution_count": 167,
   "metadata": {
    "scrolled": false
   },
   "outputs": [
    {
     "name": "stderr",
     "output_type": "stream",
     "text": [
      "C:\\Users\\vivi\\Anaconda3\\lib\\site-packages\\ipykernel_launcher.py:5: UserWarning: Boolean Series key will be reindexed to match DataFrame index.\n",
      "  \"\"\"\n",
      "C:\\Users\\vivi\\Anaconda3\\lib\\site-packages\\ipykernel_launcher.py:6: UserWarning: Boolean Series key will be reindexed to match DataFrame index.\n",
      "  \n",
      "C:\\Users\\vivi\\Anaconda3\\lib\\site-packages\\ipykernel_launcher.py:7: UserWarning: Boolean Series key will be reindexed to match DataFrame index.\n",
      "  import sys\n",
      "C:\\Users\\vivi\\Anaconda3\\lib\\site-packages\\ipykernel_launcher.py:8: UserWarning: Boolean Series key will be reindexed to match DataFrame index.\n",
      "  \n"
     ]
    }
   ],
   "source": [
    "id=df['game_id'].values\n",
    "id=np.unique(id)\n",
    "score=pd.DataFrame(columns=['date', 'opponent','first_score','second_score', 'total','minus','rate'])\n",
    "for i in range(len(id)):\n",
    "    first = df[df['game_id']==id[i]][df['period']<3]['shot_made_flag'].sum() # 上半場分數總合\n",
    "    second = df[df['game_id']==id[i]][df['period']==3]['shot_made_flag'].sum() # 下半場分數總合\n",
    "    second += df[df['game_id']==id[i]][df['period']==4]['shot_made_flag'].sum()\n",
    "    rate = df[df['game_id']==id[i]][df['period']<=4]['shot_made_flag'].mean() # 整場命中率\n",
    "    rate = '%4.3f' % (rate)\n",
    "    idx = df.index[df['game_id']==id[i]][0] # 當前game id的位置，判斷對手、日期等\n",
    "    date = df.at[idx, 'game_date']\n",
    "    opponent = df.at[idx, 'opponent']\n",
    "    if first > second:\n",
    "        score.loc[str(id[i])] = [date, opponent, first, second, first+second, first-second,rate]\n",
    "score=score.sort_values(by='rate')\n",
    "score.index=range(len(score))\n"
   ]
  },
  {
   "cell_type": "code",
   "execution_count": 168,
   "metadata": {},
   "outputs": [
    {
     "name": "stdout",
     "output_type": "stream",
     "text": [
      "(6) ANS:\n",
      "2015/11/24 , GSW , 1 , 1 , 0.071\n",
      "2016/4/5 , LAC , 1 , 1 , 0.083\n",
      "2003/12/21 , PHX , 1 , 1 , 0.083\n"
     ]
    }
   ],
   "source": [
    "print('(6) ANS:')\n",
    "for i in range(3):\n",
    "    print('%s , %s , %s , %s , %s' % (score['date'][i],score['opponent'][i],str(score['minus'][i]),str(score['total'][i]),str(score['rate'][i])))"
   ]
  },
  {
   "cell_type": "markdown",
   "metadata": {},
   "source": [
    "* (7)"
   ]
  },
  {
   "cell_type": "code",
   "execution_count": 169,
   "metadata": {},
   "outputs": [
    {
     "name": "stderr",
     "output_type": "stream",
     "text": [
      "C:\\Users\\vivi\\Anaconda3\\lib\\site-packages\\ipykernel_launcher.py:7: UserWarning: Boolean Series key will be reindexed to match DataFrame index.\n",
      "  import sys\n"
     ]
    }
   ],
   "source": [
    "lose=pd.DataFrame(columns=['date', 'opponent', 'lose', 'total'])\n",
    "date=df['game_date'].values\n",
    "date=np.unique(date)\n",
    "for i in range(len(date)):\n",
    "    idx = df.index[df['game_date']==date[i]][0]\n",
    "    oppo = df.at[idx, 'opponent']\n",
    "    lose_count = df[df['game_date']==date[i]][df['shot_made_flag']==0].shape[0] # 算有幾筆資料(幾次失誤)\n",
    "    total = df[df['game_date']==date[i]]['shot_made_flag'].sum() # 總得分\n",
    "    lose.loc[i]=[date[i], oppo, lose_count, total]"
   ]
  },
  {
   "cell_type": "code",
   "execution_count": 170,
   "metadata": {
    "scrolled": true
   },
   "outputs": [
    {
     "name": "stdout",
     "output_type": "stream",
     "text": [
      "(7) ANS:\n",
      "2002/11/7 , BOS , 35 , 12 \n",
      "2016/4/13 , UTA , 31 , 19 \n",
      "2006/12/29 , CHA , 28 , 17 \n"
     ]
    }
   ],
   "source": [
    "lose=lose.sort_values(ascending=False, by='lose')\n",
    "lose.index=range(len(lose))\n",
    "print('(7) ANS:')\n",
    "for i in range(3):\n",
    "    print('%s , %s , %d , %d ' % (lose['date'][i], lose['opponent'][i], lose['lose'][i], lose['total'][i]))"
   ]
  }
 ],
 "metadata": {
  "kernelspec": {
   "display_name": "Python 3",
   "language": "python",
   "name": "python3"
  },
  "language_info": {
   "codemirror_mode": {
    "name": "ipython",
    "version": 3
   },
   "file_extension": ".py",
   "mimetype": "text/x-python",
   "name": "python",
   "nbconvert_exporter": "python",
   "pygments_lexer": "ipython3",
   "version": "3.6.4"
  }
 },
 "nbformat": 4,
 "nbformat_minor": 2
}
