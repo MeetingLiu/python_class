{
 "cells": [
  {
   "cell_type": "code",
   "execution_count": 1,
   "metadata": {},
   "outputs": [],
   "source": [
    "from sklearn.metrics import confusion_matrix, auc, accuracy_score\n",
    "import pandas as pd\n",
    "import numpy as np\n",
    "import statsmodels.api as sm\n",
    "import itertools\n",
    "import xgboost as xgb"
   ]
  },
  {
   "cell_type": "code",
   "execution_count": 2,
   "metadata": {},
   "outputs": [],
   "source": [
    "`from sklearn import datasets\n",
    "from sklearn.model_selection import cross_val_score\n",
    "from sklearn.model_selection import train_test_split\n",
    "from sklearn.neighbors import KNeighborsClassifier"
   ]
  },
  {
   "cell_type": "code",
   "execution_count": 3,
   "metadata": {},
   "outputs": [],
   "source": [
    "# 設定繪圖\n",
    "import matplotlib.pyplot as plt\n",
    "from xgboost import XGBClassifier\n",
    "import xgboost as xgb\n",
    "from sklearn.model_selection import train_test_split"
   ]
  },
  {
   "cell_type": "code",
   "execution_count": 4,
   "metadata": {},
   "outputs": [],
   "source": [
    "def detect_str_columns(data):\n",
    "    '''\n",
    "    1. 偵測有字串的欄位\n",
    "    2. 挑選出來，準備encoding\n",
    "    \n",
    "    '''\n",
    "    strlist = list(set(np.where((data.applymap(type)==str))[1].tolist()))\n",
    "    return data.columns[strlist].tolist()\n",
    "\n",
    "def get_dummies(dummy, dataset):\n",
    "    ''''\n",
    "    make variables dummies 啞變量\n",
    "    '''\n",
    "    dummy_fields = list(dummy)\n",
    "    for each in dummy_fields:\n",
    "        dummies = pd.get_dummies( dataset.loc[:, each], prefix=each ) \n",
    "        dataset = pd.concat( [dataset, dummies], axis = 1 )\n",
    "    \n",
    "    fields_to_drop = dummy_fields\n",
    "    dataset = dataset.drop( fields_to_drop, axis = 1 )\n",
    "    return dataset"
   ]
  },
  {
   "cell_type": "code",
   "execution_count": 5,
   "metadata": {},
   "outputs": [],
   "source": [
    "def plot_confusion_matrix(cm, classes,\n",
    "                          normalize=False,\n",
    "                          title='Confusion matrix',\n",
    "                          cmap=plt.cm.Blues):\n",
    "    fig = plt.figure()\n",
    "    plt.imshow(cm, interpolation='nearest', cmap=cmap)\n",
    "    plt.title(title)\n",
    "    plt.colorbar()\n",
    "    tick_marks = np.arange(len(classes))\n",
    "    plt.xticks(tick_marks, classes, rotation=0)\n",
    "    plt.yticks(tick_marks, classes)\n",
    "\n",
    "    if normalize:\n",
    "        cm = cm.astype('float') / cm.sum(axis=1)[:, np.newaxis]\n",
    "        print(\"Normalized confusion matrix\")\n",
    "    else:\n",
    "        print('Confusion matrix, without normalization')\n",
    "\n",
    "\n",
    "    thresh = cm.max() / 2.\n",
    "    for i, j in itertools.product(range(cm.shape[0]), range(cm.shape[1])):\n",
    "        plt.text(j, i, cm[i, j],\n",
    "                 horizontalalignment=\"center\",\n",
    "                 color=\"white\" if cm[i, j] > thresh else \"black\")\n",
    "\n",
    "    plt.tight_layout()\n",
    "    plt.ylabel('True label')\n",
    "    plt.xlabel('Predicted label')\n",
    "#     fig.savefig(title+'.png', dpi=300)"
   ]
  },
  {
   "cell_type": "code",
   "execution_count": 6,
   "metadata": {},
   "outputs": [],
   "source": [
    "def model(clf, X_train,y_train,X_test,y_test,\n",
    "                    plot_name = 'logistic_regression') :\n",
    "    model = clf.fit(X_train, y_train)\n",
    "\n",
    "    y_pred = model.predict(X_test)\n",
    "    y_pred_prob = model.predict_proba(X_test)[:,1]\n",
    "    y_test_df=pd.DataFrame(y_test)\n",
    "    y_test_df[plot_name+'_pred'] = y_pred_prob\n",
    "    #Confusion Matrix\n",
    "    conf_logist = confusion_matrix(y_test, y_pred)\n",
    "    \n",
    "    feat_imp = model.feature_importances_\n",
    "    feat = X_train.columns.tolist()\n",
    "    res_data = pd.DataFrame({'Features': feat, 'Importance': feat_imp}).sort_values(by='Importance', ascending=True)\n",
    "#     res_data.plot('Features', 'Importance', kind='barh', title='變數重要性長條圖',stacked=True, figsize = (15,10))\n",
    "#     plt.ylabel(plot_name+' Feature Importance Score')\n",
    "#     plt.savefig(plot_name+'.png', dpi=300)\n",
    "#     plt.show()\n",
    "    \n",
    "    \n",
    "    res_data = res_data.sort_values('Importance',ascending=False)\n",
    "    \n",
    "    # > 50%\n",
    "    res_data = res_data[res_data['Importance']>res_data['Importance'].describe()['50%']]\n",
    "    \n",
    "\n",
    "    print( \"################ summary ################ \")\n",
    "    plot_confusion_matrix(conf_logist, ['no','Exited'],\n",
    "                  title=plot_name+\"Confusion Matrix plot\", cmap=plt.cm.Reds)#, cmap=plt.cm.Reds\n",
    "    print(confusion_matrix(y_test, y_pred))\n",
    "    print(\"Training Accuracy = {:.3f}\".format(model.score(X_train, y_train)))\n",
    "    print(\"Test Accuracy = {:.3f}\".format(model.score(X_test, y_test)))\n",
    "    \n",
    "    \n",
    "    # importance\n",
    "    print( '------------------ 應注意之變數 ------------------' )\n",
    "                    \n",
    "    print(res_data)\n",
    "    \n",
    "    print( '------------------' +plot_name+ '重要變數表------------------' )\n",
    "#     res_data.to_excel(plot_name+'重要變數表.xlsx')\n",
    "    \n",
    "    \n",
    "    return res_data, y_test_df"
   ]
  },
  {
   "cell_type": "code",
   "execution_count": 7,
   "metadata": {},
   "outputs": [
    {
     "name": "stdout",
     "output_type": "stream",
     "text": [
      "<class 'pandas.core.frame.DataFrame'>\n",
      "RangeIndex: 8000 entries, 0 to 7999\n",
      "Data columns (total 13 columns):\n",
      "CreditScore        8000 non-null int64\n",
      "Age                8000 non-null int64\n",
      "Tenure             8000 non-null int64\n",
      "NumOfProducts      8000 non-null int64\n",
      "HasCrCard          8000 non-null int64\n",
      "IsActiveMember     8000 non-null int64\n",
      "EstimatedSalary    8000 non-null float64\n",
      "Exited             8000 non-null int64\n",
      "Geography_S0       8000 non-null uint8\n",
      "Geography_S1       8000 non-null uint8\n",
      "Geography_S2       8000 non-null uint8\n",
      "Gender_Female      8000 non-null uint8\n",
      "Gender_Male        8000 non-null uint8\n",
      "dtypes: float64(1), int64(7), uint8(5)\n",
      "memory usage: 539.1 KB\n"
     ]
    }
   ],
   "source": [
    "data = pd.read_csv('C:\\Python 3.6\\sample\\\\train.csv')\n",
    "data = data.drop(columns=['Balance', 'RowNumber', 'CustomerId', 'Surname', 'Unnamed: 0'])\n",
    "str_columns = detect_str_columns(data)\n",
    "datasat = get_dummies(str_columns, data)\n",
    "datasat.info()\n",
    "X = datasat.drop(columns=['Exited'])\n",
    "y = datasat['Exited']\n",
    "X_train, X_test, y_train, y_test = train_test_split(X, y, test_size = 0.2, random_state = 0)"
   ]
  },
  {
   "cell_type": "code",
   "execution_count": 8,
   "metadata": {},
   "outputs": [
    {
     "name": "stdout",
     "output_type": "stream",
     "text": [
      "<class 'pandas.core.frame.DataFrame'>\n",
      "RangeIndex: 2000 entries, 0 to 1999\n",
      "Data columns (total 12 columns):\n",
      "CreditScore        2000 non-null int64\n",
      "Age                2000 non-null int64\n",
      "Tenure             2000 non-null int64\n",
      "NumOfProducts      2000 non-null int64\n",
      "HasCrCard          2000 non-null int64\n",
      "IsActiveMember     2000 non-null int64\n",
      "EstimatedSalary    2000 non-null float64\n",
      "Geography_S0       2000 non-null uint8\n",
      "Geography_S1       2000 non-null uint8\n",
      "Geography_S2       2000 non-null uint8\n",
      "Gender_Female      2000 non-null uint8\n",
      "Gender_Male        2000 non-null uint8\n",
      "dtypes: float64(1), int64(6), uint8(5)\n",
      "memory usage: 119.2 KB\n"
     ]
    }
   ],
   "source": [
    "test = pd.read_csv('C:\\Python 3.6\\sample\\\\test.csv')\n",
    "test_data = test.drop(columns=['Balance', 'RowNumber', 'CustomerId', 'Surname', 'Unnamed: 0'])\n",
    "\n",
    "str_columns_t = detect_str_columns(test_data)\n",
    "test_datasat = get_dummies(str_columns_t, test_data)\n",
    "# test_data\n",
    "test_datasat.info()\n",
    "X_test_pred = test_datasat\n",
    "# y_test_pred = test_datasat['Exited']"
   ]
  },
  {
   "cell_type": "code",
   "execution_count": 9,
   "metadata": {},
   "outputs": [
    {
     "name": "stdout",
     "output_type": "stream",
     "text": [
      "################ summary ################ \n",
      "Confusion matrix, without normalization\n",
      "[[1229   41]\n",
      " [ 183  147]]\n",
      "Training Accuracy = 0.864\n",
      "Test Accuracy = 0.860\n",
      "------------------ 應注意之變數 ------------------\n",
      "          Features  Importance\n",
      "1              Age    0.220114\n",
      "5   IsActiveMember    0.207781\n",
      "3    NumOfProducts    0.206662\n",
      "8     Geography_S1    0.143578\n",
      "10   Gender_Female    0.068033\n",
      "9     Geography_S2    0.036516\n",
      "------------------xgboost重要變數表------------------\n"
     ]
    },
    {
     "data": {
      "image/png": "[encoded data removed]",
      "text/plain": [
       "<Figure size 432x288 with 2 Axes>"
      ]
     },
     "metadata": {
      "needs_background": "light"
     },
     "output_type": "display_data"
    }
   ],
   "source": [
    "res_data, xgboost_y_test_df = model(\n",
    "        clf = XGBClassifier(n_estimators = 50, random_state = 0, nthread = 8),\n",
    "        X_train=X_train, y_train=y_train, X_test=X_test,y_test=y_test,\n",
    "        plot_name = 'xgboost'\n",
    "        )"
   ]
  },
  {
   "cell_type": "code",
   "execution_count": 10,
   "metadata": {},
   "outputs": [
    {
     "data": {
      "text/plain": [
       "(2000,)"
      ]
     },
     "execution_count": 10,
     "metadata": {},
     "output_type": "execute_result"
    }
   ],
   "source": [
    "clf = XGBClassifier(n_estimators = 200, random_state = 0, nthread = 8)\n",
    "model = clf.fit(X_train, y_train)\n",
    "y_pred = model.predict(X_test_pred)\n",
    "y_pred.shape"
   ]
  },
  {
   "cell_type": "code",
   "execution_count": 11,
   "metadata": {},
   "outputs": [
    {
     "data": {
      "image/png": "[encoded data removed]",
      "text/plain": [
       "<Figure size 1080x1080 with 1 Axes>"
      ]
     },
     "metadata": {
      "needs_background": "light"
     },
     "output_type": "display_data"
    }
   ],
   "source": [
    "from xgboost import plot_importance\n",
    "model = XGBClassifier()\n",
    "model.fit(X_train,y_train)\n",
    "\n",
    "### plot feature importance\n",
    "fig,ax = plt.subplots(figsize=(15,15))\n",
    "plot_importance(model,\n",
    "                height=0.5,\n",
    "                ax=ax,\n",
    "                max_num_features=64)\n",
    "plt.show()"
   ]
  },
  {
   "cell_type": "code",
   "execution_count": 12,
   "metadata": {},
   "outputs": [],
   "source": [
    "pred = pd.DataFrame(columns=['RowNumber', 'Exited'])\n",
    "pred['RowNumber'] = test['RowNumber']\n",
    "pred['Exited'] = y_pred\n",
    "path = 'C:\\Python 3.6\\sample\\\\predict_n5.csv'\n",
    "pred.to_csv(path, mode='w', index=True)"
   ]
  }
 ],
 "metadata": {
  "kernelspec": {
   "display_name": "Python 3",
   "language": "python",
   "name": "python3"
  },
  "language_info": {
   "codemirror_mode": {
    "name": "ipython",
    "version": 3
   },
   "file_extension": ".py",
   "mimetype": "text/x-python",
   "name": "python",
   "nbconvert_exporter": "python",
   "pygments_lexer": "ipython3",
   "version": "3.6.8"
  }
 },
 "nbformat": 4,
 "nbformat_minor": 2
}
