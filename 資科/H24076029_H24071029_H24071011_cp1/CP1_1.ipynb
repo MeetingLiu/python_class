{
 "cells": [
  {
   "cell_type": "code",
   "execution_count": 19,
   "metadata": {},
   "outputs": [],
   "source": [
    "import pandas as pd\n",
    "import numpy as np\n",
    "train = pd.read_csv('C:\\Python 3.6\\sample\\\\train.csv')\n",
    "test = pd.read_csv('C:\\Python 3.6\\sample\\\\test.csv')\n",
    "from sklearn.neighbors import KNeighborsClassifier\n",
    "# from sklearn.model_selection import train_test_split\n",
    "from sklearn.ensemble import RandomForestClassifier\n",
    "features = train.columns[7:13]\n",
    "y=pd.factorize(train['Exited'])[0]\n",
    "# f_train = train[['Balance', 'EstimatedSalary']]\n",
    "# f_train = train[['Balance', 'EstimatedSalary']]"
   ]
  },
  {
   "cell_type": "code",
   "execution_count": 20,
   "metadata": {},
   "outputs": [
    {
     "name": "stderr",
     "output_type": "stream",
     "text": [
      "c:\\users\\allni\\appdata\\local\\programs\\python\\python36\\lib\\site-packages\\sklearn\\ensemble\\forest.py:246: FutureWarning: The default value of n_estimators will change from 10 in version 0.20 to 100 in 0.22.\n",
      "  \"10 in version 0.20 to 100 in 0.22.\", FutureWarning)\n"
     ]
    }
   ],
   "source": [
    "clf = RandomForestClassifier(n_jobs=2, random_state=0)\n",
    "clf.fit(train[features], y)\n",
    "a = clf.predict(test[features])\n",
    "\n",
    "pred = pd.DataFrame(columns=['RowNumber', 'Exited'])\n",
    "pred['RowNumber'] = test['RowNumber']\n",
    "pred['Exited'] = a\n",
    "path = 'C:\\Python 3.6\\sample\\\\predict.csv'\n",
    "pred.to_csv(path, mode='w', index=True)\n"
   ]
  },
  {
   "cell_type": "code",
   "execution_count": 17,
   "metadata": {},
   "outputs": [],
   "source": [
    "# import pandas as pd\n",
    "# pd.read_csv(path, sep='\\t')\n",
    "# pd.read_csv(path)[pred['Exited']==0].shape\n"
   ]
  },
  {
   "cell_type": "code",
   "execution_count": null,
   "metadata": {},
   "outputs": [],
   "source": []
  }
 ],
 "metadata": {
  "kernelspec": {
   "display_name": "Python 3",
   "language": "python",
   "name": "python3"
  },
  "language_info": {
   "codemirror_mode": {
    "name": "ipython",
    "version": 3
   },
   "file_extension": ".py",
   "mimetype": "text/x-python",
   "name": "python",
   "nbconvert_exporter": "python",
   "pygments_lexer": "ipython3",
   "version": "3.6.8"
  }
 },
 "nbformat": 4,
 "nbformat_minor": 2
}
